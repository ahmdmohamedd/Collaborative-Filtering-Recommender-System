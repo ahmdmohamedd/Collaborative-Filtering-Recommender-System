{
 "cells": [
  {
   "cell_type": "code",
   "execution_count": 1,
   "id": "aa85016f-e0a6-4cf3-b7c0-777d61795163",
   "metadata": {},
   "outputs": [],
   "source": [
    "import pandas as pd\n",
    "import numpy as np\n",
    "from surprise import SVD, Reader, Dataset\n",
    "from surprise.model_selection import train_test_split\n",
    "from surprise import accuracy"
   ]
  },
  {
   "cell_type": "code",
   "execution_count": 2,
   "id": "c14d6260-dfb9-4ebe-b15d-fbc18b9e3c90",
   "metadata": {},
   "outputs": [
    {
     "name": "stdout",
     "output_type": "stream",
     "text": [
      "Dataset ml-100k could not be found. Do you want to download it? [Y/n] "
     ]
    },
    {
     "name": "stdin",
     "output_type": "stream",
     "text": [
      " y\n"
     ]
    },
    {
     "name": "stdout",
     "output_type": "stream",
     "text": [
      "Trying to download dataset from https://files.grouplens.org/datasets/movielens/ml-100k.zip...\n",
      "Done! Dataset ml-100k has been saved to C:\\Users\\ahmed/.surprise_data/ml-100k\n"
     ]
    }
   ],
   "source": [
    "# Load the MovieLens dataset (for collaborative filtering)\n",
    "data = Dataset.load_builtin('ml-100k')"
   ]
  },
  {
   "cell_type": "code",
   "execution_count": 3,
   "id": "f78da5ca-4560-44a5-9745-dbd44ca6c65a",
   "metadata": {},
   "outputs": [],
   "source": [
    "# Split the dataset into training and test sets\n",
    "trainset, testset = train_test_split(data, test_size=0.2)"
   ]
  },
  {
   "cell_type": "code",
   "execution_count": 4,
   "id": "1e3f43e5-693a-44e9-a644-342c85970415",
   "metadata": {},
   "outputs": [
    {
     "data": {
      "text/plain": [
       "<surprise.prediction_algorithms.matrix_factorization.SVD at 0x2773ea9b160>"
      ]
     },
     "execution_count": 4,
     "metadata": {},
     "output_type": "execute_result"
    }
   ],
   "source": [
    "# Build the SVD model\n",
    "model = SVD()\n",
    "\n",
    "# Train the model on the training set\n",
    "model.fit(trainset)"
   ]
  },
  {
   "cell_type": "code",
   "execution_count": 5,
   "id": "e70bba78-9015-4a15-b481-da23ed6325c5",
   "metadata": {},
   "outputs": [
    {
     "name": "stdout",
     "output_type": "stream",
     "text": [
      "RMSE: 0.9362\n",
      "RMSE: 0.9361509959247335\n"
     ]
    }
   ],
   "source": [
    "# Make predictions on the test set\n",
    "predictions = model.test(testset)\n",
    "\n",
    "# Calculate RMSE (Root Mean Squared Error)\n",
    "rmse = accuracy.rmse(predictions)\n",
    "print(f\"RMSE: {rmse}\")"
   ]
  },
  {
   "cell_type": "code",
   "execution_count": 6,
   "id": "1ed0714b-3ae5-454b-b087-de4a50d227e0",
   "metadata": {},
   "outputs": [
    {
     "name": "stdout",
     "output_type": "stream",
     "text": [
      "Prediction for User 1 on Item 50: 4.974407229836714\n"
     ]
    }
   ],
   "source": [
    "# Get a prediction for a specific user and movie\n",
    "user_id = str(1)  # Example user ID (must be a string)\n",
    "item_id = str(50)  # Example item (movie) ID (must be a string)\n",
    "\n",
    "# Get the prediction for the given user-item pair\n",
    "prediction = model.predict(user_id, item_id)\n",
    "print(f\"Prediction for User {user_id} on Item {item_id}: {prediction.est}\")"
   ]
  },
  {
   "cell_type": "code",
   "execution_count": 7,
   "id": "fbf57df7-35fb-418b-8031-1235d8b9624f",
   "metadata": {},
   "outputs": [
    {
     "name": "stdout",
     "output_type": "stream",
     "text": [
      "Top 10 recommendations for User 1: [('45', 4.635262811660076), ('169', 4.558512094052679), ('198', 4.516111436175306), ('172', 4.47012990622664), ('114', 4.457395248059975), ('7', 4.397839579540371), ('23', 4.29875847852312), ('223', 4.279343516887018), ('208', 4.235520474697519), ('153', 4.204527324664538)]\n"
     ]
    }
   ],
   "source": [
    "# Function to get top-N recommendations for a user\n",
    "def get_top_n(predictions, n=10):\n",
    "    # First map the predictions to each user.\n",
    "    top_n = {}\n",
    "    for uid, iid, true_r, est, _ in predictions:\n",
    "        if uid not in top_n:\n",
    "            top_n[uid] = []\n",
    "        top_n[uid].append((iid, est))\n",
    "\n",
    "    # Then sort the predictions for each user and retrieve the top-N\n",
    "    for uid, user_ratings in top_n.items():\n",
    "        user_ratings.sort(key=lambda x: x[1], reverse=True)\n",
    "        top_n[uid] = user_ratings[:n]\n",
    "\n",
    "    return top_n\n",
    "\n",
    "# Get top-N recommendations for all users\n",
    "top_n = get_top_n(predictions, n=10)\n",
    "\n",
    "# Display top-N recommendations for user 1\n",
    "print(f\"Top 10 recommendations for User 1: {top_n['1']}\")"
   ]
  },
  {
   "cell_type": "code",
   "execution_count": 8,
   "id": "0cd915a3-0b2b-49c0-87be-29f083fdc774",
   "metadata": {},
   "outputs": [
    {
     "name": "stdout",
     "output_type": "stream",
     "text": [
      "The collaborative filtering model using SVD has been built, trained, and evaluated.\n",
      "RMSE: 0.9361509959247335, indicating the accuracy of the recommendations.\n",
      "Personalized recommendations have been demonstrated for a sample user.\n"
     ]
    }
   ],
   "source": [
    "print(\"The collaborative filtering model using SVD has been built, trained, and evaluated.\")\n",
    "print(f\"RMSE: {rmse}, indicating the accuracy of the recommendations.\")\n",
    "print(\"Personalized recommendations have been demonstrated for a sample user.\")"
   ]
  }
 ],
 "metadata": {
  "kernelspec": {
   "display_name": "Python 3 (ipykernel)",
   "language": "python",
   "name": "python3"
  },
  "language_info": {
   "codemirror_mode": {
    "name": "ipython",
    "version": 3
   },
   "file_extension": ".py",
   "mimetype": "text/x-python",
   "name": "python",
   "nbconvert_exporter": "python",
   "pygments_lexer": "ipython3",
   "version": "3.9.18"
  }
 },
 "nbformat": 4,
 "nbformat_minor": 5
}
